{
 "cells": [
  {
   "cell_type": "code",
   "execution_count": null,
   "id": "9d30f049",
   "metadata": {},
   "outputs": [],
   "source": [
    "import pandas as pd\n",
    "train_data = pd.read_csv('fashion-mnist_train.csv')\n",
    "test_data = pd.read_csv('fashion-mnist_test.csv')"
   ]
  },
  {
   "cell_type": "code",
   "execution_count": null,
   "id": "6780b723",
   "metadata": {},
   "outputs": [],
   "source": [
    "xtrain = train_data.drop(['label'], axis=1)\n",
    "ytrain = train_data['label']\n",
    "xtest = test_data.drop(['label'], axis=1)\n",
    "ytest = test_data['label']"
   ]
  },
  {
   "cell_type": "code",
   "execution_count": null,
   "id": "2af499b6",
   "metadata": {},
   "outputs": [],
   "source": [
    "xtrain = xtrain.to_numpy()/ 255\n",
    "xtest = xtest.to_numpy()/ 255\n",
    "xtrain = xtrain.reshape(-1, 28, 28)\n",
    "xtest = xtest.reshape(-1, 28, 28)"
   ]
  },
  {
   "cell_type": "code",
   "execution_count": null,
   "id": "ee991fb9",
   "metadata": {},
   "outputs": [],
   "source": [
    "from tensorflow.keras.models import Sequential\n",
    "from tensorflow.keras.layers import Conv2D,MaxPooling2D,Flatten,Dense\n",
    "model = Sequential([\n",
    "Conv2D(32,(3,3),activation=\"relu\",input_shape=(28,28,1)),\n",
    "MaxPooling2D(),\n",
    "Flatten(),\n",
    "Dense(10,activation=\"softmax\")\n",
    "])"
   ]
  },
  {
   "cell_type": "code",
   "execution_count": null,
   "id": "ff723189",
   "metadata": {},
   "outputs": [],
   "source": [
    "model.compile(loss=\"sparse_categorical_crossentropy\",metrics=[\"accuracy\"])\n",
    "history = model.fit(xtrain,ytrain,epochs=5,validation_split=0.1)\n",
    "loss,accuracy=model.evaluate(xtest,ytest)"
   ]
  },
  {
   "cell_type": "code",
   "execution_count": null,
   "id": "6a988d36",
   "metadata": {},
   "outputs": [],
   "source": [
    "import matplotlib.pyplot as plt\n",
    "index=19\n",
    "pred = model.predict(xtest[index:index+1]).argmax()\n",
    "plt.imshow(xtest[index])\n",
    "plt.show()\n",
    "labels=[\"t-shirt\",\"jeans\",\"hoddie\",\"vest\",\"jacket\",\"sandal\",\"shirt\",\"sneaker\",\"bag\",\"boots\"]\n",
    "print(f\"Predicted output : {labels[pred]}\")"
   ]
  }
 ],
 "metadata": {
  "kernelspec": {
   "display_name": "Python 3",
   "language": "python",
   "name": "python3"
  },
  "language_info": {
   "name": "python",
   "version": "3.11.9"
  }
 },
 "nbformat": 4,
 "nbformat_minor": 5
}
